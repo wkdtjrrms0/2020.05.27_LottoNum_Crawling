{
 "cells": [
  {
   "cell_type": "code",
   "execution_count": 1,
   "metadata": {
    "scrolled": false
   },
   "outputs": [
    {
     "name": "stdout",
     "output_type": "stream",
     "text": [
      "최신회차의 로또정보까지 저장이 완료되었습니다.\n"
     ]
    }
   ],
   "source": [
    "#########################################################웹크롤링 코드############################################################\n",
    "import requests  #웹 요청을 위한 requests 라이브러리를 임폴트\n",
    "from bs4 import BeautifulSoup #파싱 라이브러리를 임폴트\n",
    "import re #문자열에서 숫자만 고르기 위한 함수 re.findall을 사용하기 위해 사용\n",
    "##################################################################################################################################\n",
    "# n번째회차의 당첨번호를 가져오는 Prize_Num(n)함수\n",
    "def Prize_Num(n):\n",
    "    Nth_lotto_url = \"https://dhlottery.co.kr/gameResult.do?method=byWin&drwNo=\"+str(n) #매 회차의 번호를 문자형으로 바꿔서 링크에 적용\n",
    "    Nth_lotto = requests.get(Nth_lotto_url) #url에 요청 진행\n",
    "    soup1 = BeautifulSoup(Nth_lotto.content, \"html.parser\") #뷰티풀수프함수에 요청결과의 내용과 파싱할 대상인 html로 파라미터를 채워줌\n",
    "    numbers = soup1.select('span.ball_645')    #html에서 로또 번호 값을 갖고 있는 span 태그에 ball_645.. 클래스를 찾아줌\n",
    "    Prize_Num_List = [n] #당첨 번호를 저장할 리스트, 가장 첫번째 요소는 회차를 나타낼 것이기 때문에 n을 넣어준다.\n",
    "    for number in numbers: #numbers의 리스트를 하나하나로 나눔\n",
    "        make_number = re.findall(\"\\d+\", str(number)) #문자열에서 숫자만 추출한다.\n",
    "        make_number = list(map(int, make_number)) #각 숫자 옆에 있는 ''을 제거하고 정수형으로 변환하기 위해서 사용\n",
    "        Prize_Num_List.append(make_number[2]) #n번째 자리의 당첨번호를 Prize_Num_List에 저장\n",
    "    return Prize_Num_List\n",
    "##################################################################################################################################\n",
    "#최신회차가 몇회인지 값을 정수형으로 반환\n",
    "def Get_Latest_Nth():\n",
    "    lotto_url = \"https://dhlottery.co.kr/gameResult.do?method=byWin\"  #크롤링할 대상 url을 변수하나에 저장\n",
    "    lotto_latest = requests.get(lotto_url) #url에 요청을 진행\n",
    "    soup2 = BeautifulSoup(lotto_latest.content, \"html.parser\") #뷰티풀수프함수에 요청결과의 내용과 파싱할 대상인 html로 파라미터를 채워줌\n",
    "    result = str(soup2.find(\"meta\", {\"id\" : \"desc\", \"name\" : \"description\"})['content']) #최신회차가 있는 부분을 특징지어 문자열로 가져온다.\n",
    "    i=5  #결과값에 저장된 문자열을 보면 인덱스 5번부터 회차의 첫째 자리수여서 i=5로 초기화하였다.\n",
    "    while result[i].isdigit():  #지금은 비록 회차가 3자리 수지만 회차의 수는 계속해서 증가하여 4자리수, 5자리수가 될 수도 있다. 그래서 isdigit과 반복문을 사용하여 인덱스의 값이 숫자일때 i값을 1씩 증가시키고 ㅇㅇㅇ회의 \"회\" 자 라는 문자가 나오면 반복을 멈추고 회차의 첫째자리인 5번 인덱스부터 문자가 시작되는 i번 인덱스 전까지의 값을 리턴한다.\n",
    "        i=i+1\n",
    "    return int(result[5:i]) #정수형으로 반환해준다.\n",
    "##################################################################################################################################\n",
    "#1회차부터 최신화차까지 반복하여 이중리스트의 행에는 회차, 열에는 당첨번호를 넣는다.\n",
    "double_list = []\n",
    "fp = open('Data_Lotto.txt', 'w')  #쓰기모드로 텍스트파일을 열고 생성이나 수정\n",
    "for row in range(1,Get_Latest_Nth()+1): #회차정보인 row(행)를 1부터 최신회차까지 반복\n",
    "    double_list.append(Prize_Num(row))  #각 행에 해당하는 당첨번호리스트 넣기\n",
    "    line = str(double_list[row-1][0]) + ',' + str(double_list[row-1][1]) + ',' + str(double_list[row-1][2]) + ',' + str(double_list[row-1][3]) + ',' + str(double_list[row-1][4]) + ',' + str(double_list[row-1][5]) + ',' + str(double_list[row-1][6]) + ',' + str(double_list[row-1][7]) #로또 번호를 각 줄마다  라인에 저장\n",
    "    if(row < Get_Latest_Nth()): #마지막 반복 전까지 줄넘김\n",
    "        line += '\\n'  #줄 넘기기\n",
    "        fp.write(line) #각 라인마다 파일에 쓰기모드로 저장\n",
    "    else: #마지막 반복은 줄넘김을 하지 않음\n",
    "        fp.write(line) #마지막 라인 파일에 쓰기모드로 저장\n",
    "print(\"최신회차의 로또정보까지 저장이 완료되었습니다.\")\n",
    "fp.close()  #파일 닫기\n",
    "#########################################약 10분 쇼요###########################"
   ]
  },
  {
   "cell_type": "code",
   "execution_count": null,
   "metadata": {},
   "outputs": [],
   "source": []
  }
 ],
 "metadata": {
  "kernelspec": {
   "display_name": "Python 3",
   "language": "python",
   "name": "python3"
  },
  "language_info": {
   "codemirror_mode": {
    "name": "ipython",
    "version": 3
   },
   "file_extension": ".py",
   "mimetype": "text/x-python",
   "name": "python",
   "nbconvert_exporter": "python",
   "pygments_lexer": "ipython3",
   "version": "3.7.6"
  }
 },
 "nbformat": 4,
 "nbformat_minor": 4
}
